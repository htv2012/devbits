{
 "cells": [
  {
   "cell_type": "markdown",
   "id": "danish-beaver",
   "metadata": {},
   "source": [
    "# Introduction\n",
    "\n",
    "At work, I often need to parse contents of files such as /etc/os-release. Here is a sample of what the file looks like:\n",
    "\n",
    "```\n",
    "VERSION=\"10 (buster)\"\n",
    "VERSION_CODENAME=buster\n",
    "ID=raspbian\n",
    "ID_LIKE=debian\n",
    "HOME_URL=\"http://www.raspbian.org/\"\n",
    "SUPPORT_URL=\"http://www.raspbian.org/RaspbianForums\"\n",
    "BUG_REPORT_URL=\"http://www.raspbian.org/RaspbianBugs\"\n",
    "```\n",
    "\n",
    "In this post, I will discuss my different attempts and their pros and cons.\n",
    "\n",
    "\n",
    "## First Attempt: Split Line at the Equal Sign\n",
    "\n",
    "This was the most obvious attempt, given a line such as:"
   ]
  },
  {
   "cell_type": "code",
   "execution_count": 1,
   "id": "significant-baltimore",
   "metadata": {},
   "outputs": [],
   "source": [
    "line = 'VERSION=\"10 (buster)\"'"
   ]
  },
  {
   "cell_type": "markdown",
   "id": "bacterial-remains",
   "metadata": {},
   "source": [
    "We can split it by the equal sign:"
   ]
  },
  {
   "cell_type": "code",
   "execution_count": 2,
   "id": "contained-separation",
   "metadata": {},
   "outputs": [
    {
     "data": {
      "text/plain": [
       "['VERSION', '\"10 (buster)\"']"
      ]
     },
     "execution_count": 2,
     "metadata": {},
     "output_type": "execute_result"
    }
   ],
   "source": [
    "line.split(\"=\")"
   ]
  },
  {
   "cell_type": "markdown",
   "id": "reported-ownership",
   "metadata": {},
   "source": [
    "The split results in 2 parts: the key (VERSION) and the value (\"10 (buster)\"). We are not done yet: we need to strip the quotes from the value. Putting it all together:"
   ]
  },
  {
   "cell_type": "code",
   "execution_count": 3,
   "id": "pleasant-footwear",
   "metadata": {},
   "outputs": [],
   "source": [
    "def parse_line(line):\n",
    "    key, value = line.split(\"=\")\n",
    "    value = value.strip('\"')\n",
    "    return key, value"
   ]
  },
  {
   "cell_type": "markdown",
   "id": "devoted-explosion",
   "metadata": {},
   "source": [
    "Test it out:"
   ]
  },
  {
   "cell_type": "code",
   "execution_count": 4,
   "id": "equivalent-importance",
   "metadata": {},
   "outputs": [
    {
     "data": {
      "text/plain": [
       "('VERSION', '10 (buster)')"
      ]
     },
     "execution_count": 4,
     "metadata": {},
     "output_type": "execute_result"
    }
   ],
   "source": [
    "parse_line(line)"
   ]
  },
  {
   "cell_type": "markdown",
   "id": "cellular-coach",
   "metadata": {},
   "source": [
    "Now that we successfully parse one line, we can parse multiple lines. Given that:"
   ]
  },
  {
   "cell_type": "code",
   "execution_count": 5,
   "id": "accessory-stylus",
   "metadata": {},
   "outputs": [],
   "source": [
    "text = \"\"\"VERSION=\"10 (buster)\"\n",
    "VERSION_CODENAME=buster\n",
    "ID=raspbian\n",
    "ID_LIKE=debian\n",
    "HOME_URL=\"http://www.raspbian.org/\"\n",
    "SUPPORT_URL=\"http://www.raspbian.org/RaspbianForums\"\n",
    "BUG_REPORT_URL=\"http://www.raspbian.org/RaspbianBugs\"\n",
    "\"\"\""
   ]
  },
  {
   "cell_type": "markdown",
   "id": "japanese-belfast",
   "metadata": {},
   "source": [
    "We can write the parser which split the text into lines and parse each line:"
   ]
  },
  {
   "cell_type": "code",
   "execution_count": 6,
   "id": "bound-organic",
   "metadata": {},
   "outputs": [],
   "source": [
    "def parse_etc_os_release(text):\n",
    "    dict_object = dict(\n",
    "        parse_line(line)\n",
    "        for line in text.splitlines()\n",
    "    )\n",
    "    return dict_object"
   ]
  },
  {
   "cell_type": "markdown",
   "id": "metallic-customs",
   "metadata": {},
   "source": [
    "Test it out:"
   ]
  },
  {
   "cell_type": "code",
   "execution_count": 7,
   "id": "mechanical-portuguese",
   "metadata": {},
   "outputs": [
    {
     "data": {
      "text/plain": [
       "{'VERSION': '10 (buster)',\n",
       " 'VERSION_CODENAME': 'buster',\n",
       " 'ID': 'raspbian',\n",
       " 'ID_LIKE': 'debian',\n",
       " 'HOME_URL': 'http://www.raspbian.org/',\n",
       " 'SUPPORT_URL': 'http://www.raspbian.org/RaspbianForums',\n",
       " 'BUG_REPORT_URL': 'http://www.raspbian.org/RaspbianBugs'}"
      ]
     },
     "execution_count": 7,
     "metadata": {},
     "output_type": "execute_result"
    }
   ],
   "source": [
    "parse_etc_os_release(text)"
   ]
  },
  {
   "cell_type": "markdown",
   "id": "boxed-closer",
   "metadata": {},
   "source": [
    "This approach was obvious, does not use any standard- or third-party library, so I really like it. However, I usually challenge myself to find alternative solutions, so I looked around and found another solution."
   ]
  },
  {
   "cell_type": "markdown",
   "id": "moved-mauritius",
   "metadata": {},
   "source": [
    "## Second Attempt: Use the `csv` Library\n",
    "\n",
    "At closer look, the contents of /etc/os-release looks like a comma-separated-value (csv) file, only with the equal sign as separator. That means I could use the `csv` library to parse it:"
   ]
  },
  {
   "cell_type": "code",
   "execution_count": 8,
   "id": "religious-holmes",
   "metadata": {},
   "outputs": [],
   "source": [
    "import csv\n",
    "\n",
    "def parse_etc_os_release2(text):\n",
    "    # CSV can \"sniff\" or guess the separators\n",
    "    dialect = csv.Sniffer().sniff(text)\n",
    "    \n",
    "    # Parse it and turn into a dictionary\n",
    "    lines = text.splitlines()\n",
    "    csv_reader = csv.reader(lines, dialect)\n",
    "    dict_object = dict(csv_reader)\n",
    "    \n",
    "    return dict_object"
   ]
  },
  {
   "cell_type": "markdown",
   "id": "failing-spare",
   "metadata": {},
   "source": [
    "Test it out:"
   ]
  },
  {
   "cell_type": "code",
   "execution_count": 9,
   "id": "anticipated-wealth",
   "metadata": {},
   "outputs": [
    {
     "data": {
      "text/plain": [
       "{'VERSION': '10 (buster)',\n",
       " 'VERSION_CODENAME': 'buster',\n",
       " 'ID': 'raspbian',\n",
       " 'ID_LIKE': 'debian',\n",
       " 'HOME_URL': 'http://www.raspbian.org/',\n",
       " 'SUPPORT_URL': 'http://www.raspbian.org/RaspbianForums',\n",
       " 'BUG_REPORT_URL': 'http://www.raspbian.org/RaspbianBugs'}"
      ]
     },
     "execution_count": 9,
     "metadata": {},
     "output_type": "execute_result"
    }
   ],
   "source": [
    "parse_etc_os_release2(text)"
   ]
  },
  {
   "cell_type": "markdown",
   "id": "thermal-transcript",
   "metadata": {},
   "source": [
    "In the code above, we first use the `csv` library to guess the dialect of the file, which includes separators, quote characters, and other characteristics. Next, we create a `csv.reader` object and use the `dict` construct to iterate over the lines and return a dictionary object.\n",
    "\n",
    "The advantage of this method is the `csv` library can handle a wide variety of separators and quote characters. The disadvantage of this method, compare to the first one is the first does not need to use any library, standard or third party.\n",
    "\n",
    "## Conclusion\n",
    "\n",
    "For parsing /etc/os-release alone, I believe the two methods are a tie. However, the second can parse more formats: imagine file formats which uses colon instead of equal sign as a separator."
   ]
  }
 ],
 "metadata": {
  "kernelspec": {
   "display_name": "Python 3",
   "language": "python",
   "name": "python3"
  },
  "language_info": {
   "codemirror_mode": {
    "name": "ipython",
    "version": 3
   },
   "file_extension": ".py",
   "mimetype": "text/x-python",
   "name": "python",
   "nbconvert_exporter": "python",
   "pygments_lexer": "ipython3",
   "version": "3.9.0"
  }
 },
 "nbformat": 4,
 "nbformat_minor": 5
}

{
 "cells": [
  {
   "cell_type": "markdown",
   "id": "nearby-constraint",
   "metadata": {},
   "source": [
    "# Check If An IP is SSH'able\n",
    "\n",
    "I often need to determine if I can ssh into an IP address. In other world, for the server identified by the IP address, is the SSH port (22) is open?\n",
    "\n",
    "## First Attempt: Use bash and ssh\n",
    "\n",
    "In my first attempt, I used the `ssh` command from bash to check. This approach is not doable because I don't know in advance the user name and password; all I know is the IP address."
   ]
  },
  {
   "cell_type": "markdown",
   "id": "actual-conspiracy",
   "metadata": {},
   "source": [
    "## Second Attempt: Use the `socket` Library\n",
    "\n",
    "In this attempt, I use the `socket` library and attempt to connect to the IP address on port 22:"
   ]
  },
  {
   "cell_type": "code",
   "execution_count": 1,
   "id": "outer-specialist",
   "metadata": {},
   "outputs": [],
   "source": [
    "import socket\n",
    "\n",
    "\n",
    "def sshable(ip_address, port=22):\n",
    "    \"\"\"\n",
    "    Returns 0 if the IP address is ssh'able, non-zero otherwise\n",
    "    \"\"\"\n",
    "    with socket.socket(socket.AF_INET, socket.SOCK_STREAM) as sock:\n",
    "        return_code = sock.connect_ex((ip_address, port))\n",
    "    return return_code"
   ]
  },
  {
   "cell_type": "markdown",
   "id": "split-transparency",
   "metadata": {},
   "source": [
    "Test it out, I know that my Raspberry Pi (IP: 192.168.1.34) is ssh able:"
   ]
  },
  {
   "cell_type": "code",
   "execution_count": 2,
   "id": "adaptive-luxembourg",
   "metadata": {},
   "outputs": [
    {
     "data": {
      "text/plain": [
       "0"
      ]
     },
     "execution_count": 2,
     "metadata": {},
     "output_type": "execute_result"
    }
   ],
   "source": [
    "sshable(\"192.168.1.34\")"
   ]
  },
  {
   "cell_type": "markdown",
   "id": "packed-revision",
   "metadata": {},
   "source": [
    "In the function above, note that I used the `connect_ex` method instead of `connect`. The difference is the former returns a none-zero error code upon failure; whereas the later will throw some exception.\n",
    "\n",
    "\n",
    "## Conclusion\n",
    "\n",
    "Small functions like this is intuitive to look at, and if someone spend a few minutes to look up online would come up with it. The point here is to have it ready, when the need arise, I only need to copy it and use."
   ]
  }
 ],
 "metadata": {
  "kernelspec": {
   "display_name": "Python 3",
   "language": "python",
   "name": "python3"
  },
  "language_info": {
   "codemirror_mode": {
    "name": "ipython",
    "version": 3
   },
   "file_extension": ".py",
   "mimetype": "text/x-python",
   "name": "python",
   "nbconvert_exporter": "python",
   "pygments_lexer": "ipython3",
   "version": "3.9.0"
  }
 },
 "nbformat": 4,
 "nbformat_minor": 5
}
